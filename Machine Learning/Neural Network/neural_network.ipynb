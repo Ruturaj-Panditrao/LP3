{
  "cells": [
    {
      "cell_type": "code",
      "source": [
        "# Neural Networks"
      ],
      "metadata": {
        "id": "UBQrDf-L4F4r"
      },
      "execution_count": null,
      "outputs": []
    },
    {
      "cell_type": "code",
      "execution_count": 13,
      "metadata": {
        "id": "WBJj9l6xm_ic"
      },
      "outputs": [],
      "source": [
        "import pandas as pd\n",
        "import tensorflow as tf\n",
        "from tensorflow import keras\n",
        "from sklearn.metrics import accuracy_score, confusion_matrix\n",
        "from sklearn.model_selection import train_test_split\n",
        "from sklearn.preprocessing import MinMaxScaler"
      ]
    },
    {
      "cell_type": "code",
      "execution_count": 14,
      "metadata": {
        "id": "SJPFCGfhm_ig"
      },
      "outputs": [],
      "source": [
        "data = pd.read_csv('Churn_Modelling.csv')"
        "data.isna().sum()",
        "#No missing values/n"
      ]
    },
    {
      "cell_type": "code",
      "execution_count": 15,
      "metadata": {
        "id": "XTd2-Zsbm_ig"
      },
      "outputs": [],
      "source": [
        "X = data.drop(columns=['Exited', 'CustomerId', 'Surname', 'RowNumber'])  # Exclude columns\n",
        "y = data['Exited']  # Target Variable",
        "# We Need to encode Categorical Variables like "Geography" and "Gender" into numerical format using pd.get_dummies\n",
        "X = pd.get_dummies(X, columns=['Geography', 'Gender'], drop_first=True)"
      ]
    },
    {
      "cell_type": "code",
      "execution_count": 18,
      "metadata": {
        "id": "NXlpyvZGm_ii"
      },
      "outputs": [],
      "source": [
        "# Normalize the Dataset using Min-Max Scaling\n",
        "scaler = MinMaxScaler()\n",
        "X = scaler.fit_transform(X)"
      ]
    },
    {
      "cell_type": "code",
      "execution_count": 19,
      "metadata": {
        "id": "tEi4wzNwm_ij"
      },
      "outputs": [],
      "source": [
        "# Initialize and Build the Model\n",
        "# We have considered 3 Layers Sequentially hence the 'Sequential' function\n",
        "# The paramters are (no.of neurons,activation function)\n",
        "model = keras.Sequential([\n",
        "    keras.layers.Dense(64, activation='relu', input_shape=(X.shape[1],)),\n",
        "    keras.layers.Dense(32, activation='relu'),\n",
        "    keras.layers.Dense(1, activation='sigmoid')\n",
        "])"
      ]
    },
    {
      "cell_type": "code",
      "execution_count": 20,
      "metadata": {
        "id": "GxIw6812m_ij"
      },
      "outputs": [],
      "source": [
        "# adam = Adaptive Moment Estimation, uses moving avg of Gradient Descent than Gradient Descent itself for Optimization\n",
        "# binary_crossentropy = Loss function used in Binary Classification\n",
        "# metrics parameter = The metric we wish to Track while Training the Model\n",
        "model.compile(optimizer='adam', loss='binary_crossentropy', metrics=['accuracy'])"
      ]
    },
    {
      "cell_type": "code",
      "execution_count": 21,
      "metadata": {
        "id": "WgeBScawm_ik"
      },
      "outputs": [],
      "source": [
        "# Split the data into training and testing sets\n",
        "X_train, X_test, y_train, y_test = train_test_split(X, y, test_size=0.2, random_state=42)"
      ]
    },
    {
      "cell_type": "code",
      "execution_count": 22,
      "metadata": {
        "colab": {
          "base_uri": "https://localhost:8080/"
        },
        "id": "QotapVa6m_il",
        "outputId": "8958f68c-2b78-45d8-a696-f0e98aaf1f57"
      },
      "outputs": [
        {
          "output_type": "stream",
          "name": "stdout",
          "text": [
            "Epoch 1/20\n",
            "250/250 [==============================] - 1s 2ms/step - loss: 0.4847 - accuracy: 0.7955\n",
            "Epoch 2/20\n",
            "250/250 [==============================] - 1s 2ms/step - loss: 0.4398 - accuracy: 0.8120\n",
            "Epoch 3/20\n",
            "250/250 [==============================] - 1s 2ms/step - loss: 0.4205 - accuracy: 0.8214\n",
            "Epoch 4/20\n",
            "250/250 [==============================] - 1s 2ms/step - loss: 0.4049 - accuracy: 0.8301\n",
            "Epoch 5/20\n",
            "250/250 [==============================] - 1s 2ms/step - loss: 0.3833 - accuracy: 0.8396\n",
            "Epoch 6/20\n",
            "250/250 [==============================] - 1s 5ms/step - loss: 0.3708 - accuracy: 0.8439\n",
            "Epoch 7/20\n",
            "250/250 [==============================] - 2s 7ms/step - loss: 0.3628 - accuracy: 0.8487\n",
            "Epoch 8/20\n",
            "250/250 [==============================] - 2s 7ms/step - loss: 0.3591 - accuracy: 0.8504\n",
            "Epoch 9/20\n",
            "250/250 [==============================] - 2s 8ms/step - loss: 0.3531 - accuracy: 0.8537\n",
            "Epoch 10/20\n",
            "250/250 [==============================] - 2s 7ms/step - loss: 0.3506 - accuracy: 0.8562\n",
            "Epoch 11/20\n",
            "250/250 [==============================] - 1s 4ms/step - loss: 0.3488 - accuracy: 0.8566\n",
            "Epoch 12/20\n",
            "250/250 [==============================] - 1s 6ms/step - loss: 0.3455 - accuracy: 0.8570\n",
            "Epoch 13/20\n",
            "250/250 [==============================] - 1s 5ms/step - loss: 0.3458 - accuracy: 0.8589\n",
            "Epoch 14/20\n",
            "250/250 [==============================] - 2s 6ms/step - loss: 0.3422 - accuracy: 0.8571\n",
            "Epoch 15/20\n",
            "250/250 [==============================] - 1s 4ms/step - loss: 0.3419 - accuracy: 0.8571\n",
            "Epoch 16/20\n",
            "250/250 [==============================] - 0s 2ms/step - loss: 0.3406 - accuracy: 0.8581\n",
            "Epoch 17/20\n",
            "250/250 [==============================] - 1s 2ms/step - loss: 0.3422 - accuracy: 0.8587\n",
            "Epoch 18/20\n",
            "250/250 [==============================] - 1s 2ms/step - loss: 0.3388 - accuracy: 0.8590\n",
            "Epoch 19/20\n",
            "250/250 [==============================] - 1s 2ms/step - loss: 0.3376 - accuracy: 0.8601\n",
            "Epoch 20/20\n",
            "250/250 [==============================] - 1s 2ms/step - loss: 0.3368 - accuracy: 0.8614\n"
          ]
        },
        {
          "output_type": "execute_result",
          "data": {
            "text/plain": [
              "<keras.src.callbacks.History at 0x7ba85e973610>"
            ]
          },
          "metadata": {},
          "execution_count": 22
        }
      ],
      "source": [
        "# Train the model\n",
        "# epochs = The number of times the Model sees the Dataset (here 20)\n",
        "# batch_size = The number of samples after which weights are adjusted (here 32)\n",
        "# verbose = When set, it Prints a message after each Epoch is Evaluated\n",
        "model.fit(X_train, y_train, epochs=20, batch_size=32, verbose=1)"
      ]
    },
    {
      "cell_type": "code",
      "execution_count": 23,
      "metadata": {
        "colab": {
          "base_uri": "https://localhost:8080/"
        },
        "id": "FDZZSurVm_im",
        "outputId": "1aa8c973-3a9a-4fe7-e8bf-6b5521c63b14"
      },
      "outputs": [
        {
          "output_type": "stream",
          "name": "stdout",
          "text": [
            "63/63 [==============================] - 0s 2ms/step\n"
          ]
        }
      ],
      "source": [
        "# Evaluating the Model\n",
        "y_pred = model.predict(X_test)\n",
        "# Convert to Binary prediction\n",
        "# Since final output layer uses Sigmoid Activation Function,\n",
        "# The output can be any number between 0 and 1\n",
        "# Hence, we set the Outputs closer to 0 (ie <0.5) to 0\n",
        "# And we set the Outputs closer to 1 (ie>0.5) to 1\n",
        "y_pred = (y_pred > 0.5).astype(int)"
      ]
    },
    {
      "cell_type": "code",
      "execution_count": 24,
      "metadata": {
        "colab": {
          "base_uri": "https://localhost:8080/"
        },
        "id": "P5GB4O-Km_im",
        "outputId": "62f46c70-10a4-4702-f357-04dd29437e71"
      },
      "outputs": [
        {
          "output_type": "stream",
          "name": "stdout",
          "text": [
            "Accuracy: 0.858\n",
            "Confusion Matrix:\n",
            "[[1561   46]\n",
            " [ 238  155]]\n"
          ]
        }
      ],
      "source": [
        "accuracy = accuracy_score(y_test, y_pred)\n",
        "confusion = confusion_matrix(y_test, y_pred)\n",
        "\n",
        "print(f\"Accuracy: {accuracy}\")\n",
        "print(\"Confusion Matrix:\")\n",
        "print(confusion)"
      ]
    }
  ],
  "metadata": {
    "kernelspec": {
      "display_name": "Python 3",
      "language": "python",
      "name": "python3"
    },
    "language_info": {
      "codemirror_mode": {
        "name": "ipython",
        "version": 3
      },
      "file_extension": ".py",
      "mimetype": "text/x-python",
      "name": "python",
      "nbconvert_exporter": "python",
      "pygments_lexer": "ipython3",
      "version": "3.8.8"
    },
    "colab": {
      "provenance": []
    }
  },
  "nbformat": 4,
  "nbformat_minor": 0
}
